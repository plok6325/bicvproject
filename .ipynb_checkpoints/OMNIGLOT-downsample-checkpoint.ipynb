{
 "cells": [
  {
   "cell_type": "code",
   "execution_count": 21,
   "metadata": {
    "collapsed": false
   },
   "outputs": [],
   "source": [
    "import numpy as np\n",
    "from keras.models import Sequential\n",
    "from keras.layers import Dense,Conv2D,Conv2DTranspose \n",
    "from tqdm import tqdm_notebook as tqdm\n",
    "from scipy.misc import imresize"
   ]
  },
  {
   "cell_type": "code",
   "execution_count": 18,
   "metadata": {
    "collapsed": false
   },
   "outputs": [],
   "source": [
    "omni= np.load('omniglot.npz')"
   ]
  },
  {
   "cell_type": "code",
   "execution_count": 24,
   "metadata": {
    "collapsed": false
   },
   "outputs": [],
   "source": [
    "omni = omni['images']"
   ]
  },
  {
   "cell_type": "code",
   "execution_count": 27,
   "metadata": {
    "collapsed": false
   },
   "outputs": [
    {
     "name": "stdout",
     "output_type": "stream",
     "text": [
      "\n"
     ]
    }
   ],
   "source": [
    "omni_by2 = []\n",
    "omni_by4=[]\n",
    "omni_by8 = []\n",
    "for index in tqdm(range(len(omni))):\n",
    "    omni_by2.append(imresize(omni[index],size=0.5,interp='bicubic'))\n",
    "    omni_by4.append(imresize(omni[index],size=0.25,interp='bicubic')) \n",
    "    omni_by8.append(imresize(omni[index],size=0.125,interp='bicubic')) \n",
    "omni_by2=np.array(omni_by2)\n",
    "omni_by4=np.array(omni_by4)\n",
    "omni_by8=np.array(omni_by8)\n"
   ]
  },
  {
   "cell_type": "code",
   "execution_count": 28,
   "metadata": {
    "collapsed": true
   },
   "outputs": [],
   "source": [
    "np.savez_compressed(omni_by2=omni_by2,omni_by4=omni_by4,omni=omni,omni_by8=omni_by8,file='OMNIGLOT')"
   ]
  },
  {
   "cell_type": "code",
   "execution_count": null,
   "metadata": {
    "collapsed": true
   },
   "outputs": [],
   "source": []
  }
 ],
 "metadata": {
  "kernelspec": {
   "display_name": "Python 2",
   "language": "python",
   "name": "python2"
  },
  "language_info": {
   "codemirror_mode": {
    "name": "ipython",
    "version": 2
   },
   "file_extension": ".py",
   "mimetype": "text/x-python",
   "name": "python",
   "nbconvert_exporter": "python",
   "pygments_lexer": "ipython2",
   "version": "2.7.13"
  },
  "widgets": {
   "state": {
    "7c40728299554abc91c64c71112ee2b8": {
     "views": [
      {
       "cell_index": 3
      }
     ]
    }
   },
   "version": "1.2.0"
  }
 },
 "nbformat": 4,
 "nbformat_minor": 2
}
