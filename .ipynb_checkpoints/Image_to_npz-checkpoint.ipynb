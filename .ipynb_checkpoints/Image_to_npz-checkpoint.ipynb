{
 "cells": [
  {
   "cell_type": "code",
   "execution_count": 1,
   "metadata": {
    "collapsed": false
   },
   "outputs": [
    {
     "name": "stderr",
     "output_type": "stream",
     "text": [
      "Using TensorFlow backend.\n"
     ]
    }
   ],
   "source": [
    "from keras.preprocessing.image import ImageDataGenerator, array_to_img, img_to_array, load_img,img_to_array\n",
    "import numpy as np\n",
    "import matplotlib.pyplot as plt\n",
    "from os import listdir,walk\n",
    "from os.path import isfile, join\n",
    "from scipy.misc import imread"
   ]
  },
  {
   "cell_type": "code",
   "execution_count": 11,
   "metadata": {
    "collapsed": false
   },
   "outputs": [],
   "source": [
    "mypath='./data/BSD100/image_SRF_4/'\n",
    "value_of_image=[]\n",
    "for files in sorted(listdir(mypath)):\n",
    "    images = join(mypath,files)\n",
    "    if 'LR' in files:\n",
    "        \n",
    "        value=img_to_array(imread(images))\n",
    "        #print str(value.shape)\n",
    "        if value.shape[0]==80:\n",
    "                value_of_image.append(value)\n",
    "value_of_image= np.stack(value_of_image)\n",
    "LR = value_of_image\n"
   ]
  },
  {
   "cell_type": "code",
   "execution_count": 8,
   "metadata": {
    "collapsed": false,
    "scrolled": true
   },
   "outputs": [],
   "source": [
    "value_of_image=[]\n",
    "for files in sorted(listdir(mypath)):\n",
    "    images = join(mypath,files)\n",
    "    if 'HR' in files:\n",
    "        #print str(images)\n",
    "        value=img_to_array(imread(images))\n",
    "        if value.shape[1]==480:\n",
    "                value_of_image.append(value)\n",
    "value_of_image= np.stack(value_of_image)\n",
    "HR = value_of_image"
   ]
  },
  {
   "cell_type": "code",
   "execution_count": 9,
   "metadata": {
    "collapsed": false
   },
   "outputs": [
    {
     "data": {
      "text/plain": [
       "(100, 320, 480, 3)"
      ]
     },
     "execution_count": 9,
     "metadata": {},
     "output_type": "execute_result"
    }
   ],
   "source": [
    "HR.shape"
   ]
  },
  {
   "cell_type": "code",
   "execution_count": 10,
   "metadata": {
    "collapsed": false
   },
   "outputs": [],
   "source": [
    "np.savez_compressed(HR=HR,LR=LR,file='BSD100-SRF_4.npz')"
   ]
  },
  {
   "cell_type": "code",
   "execution_count": 10,
   "metadata": {
    "collapsed": false
   },
   "outputs": [
    {
     "data": {
      "text/plain": [
       "(10, 104, 104)"
      ]
     },
     "execution_count": 10,
     "metadata": {},
     "output_type": "execute_result"
    }
   ],
   "source": [
    "value_of_image.shape"
   ]
  },
  {
   "cell_type": "code",
   "execution_count": null,
   "metadata": {
    "collapsed": true
   },
   "outputs": [],
   "source": []
  }
 ],
 "metadata": {
  "kernelspec": {
   "display_name": "Python 2",
   "language": "python",
   "name": "python2"
  },
  "language_info": {
   "codemirror_mode": {
    "name": "ipython",
    "version": 2
   },
   "file_extension": ".py",
   "mimetype": "text/x-python",
   "name": "python",
   "nbconvert_exporter": "python",
   "pygments_lexer": "ipython2",
   "version": "2.7.13"
  }
 },
 "nbformat": 4,
 "nbformat_minor": 2
}
