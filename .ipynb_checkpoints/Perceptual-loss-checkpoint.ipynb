{
 "cells": [
  {
   "cell_type": "markdown",
   "metadata": {},
   "source": [
    "<h1 align='center'>Perceptual Losses for Real-Time Style Transfer and Super-Resolution </center>\n",
    "https://arxiv.org/abs/1603.08155"
   ]
  },
  {
   "cell_type": "markdown",
   "metadata": {},
   "source": [
    "Play with VGG "
   ]
  },
  {
   "cell_type": "code",
   "execution_count": 10,
   "metadata": {
    "collapsed": false
   },
   "outputs": [],
   "source": [
    "from keras.models import Sequential\n",
    "from keras.layers import Dense, Conv2D\n",
    "from keras import applications"
   ]
  },
  {
   "cell_type": "code",
   "execution_count": 11,
   "metadata": {
    "collapsed": true
   },
   "outputs": [],
   "source": [
    "model = applications.VGG16(include_top=False,\n",
    "                           weights='imagenet')\n"
   ]
  },
  {
   "cell_type": "code",
   "execution_count": 17,
   "metadata": {
    "collapsed": false
   },
   "outputs": [],
   "source": [
    "layer_dict=dict([(layer.name,layer) for layer in model.layers])"
   ]
  },
  {
   "cell_type": "code",
   "execution_count": 18,
   "metadata": {
    "collapsed": false
   },
   "outputs": [
    {
     "data": {
      "text/plain": [
       "{'block1_conv1': <keras.layers.convolutional.Conv2D at 0x7f3b5c7be950>,\n",
       " 'block1_conv2': <keras.layers.convolutional.Conv2D at 0x7f3b5c543fd0>,\n",
       " 'block1_pool': <keras.layers.pooling.MaxPooling2D at 0x7f3b5c7be750>,\n",
       " 'block2_conv1': <keras.layers.convolutional.Conv2D at 0x7f3b5c7becd0>,\n",
       " 'block2_conv2': <keras.layers.convolutional.Conv2D at 0x7f3b5c55cad0>,\n",
       " 'block2_pool': <keras.layers.pooling.MaxPooling2D at 0x7f3b5c5bd150>,\n",
       " 'block3_conv1': <keras.layers.convolutional.Conv2D at 0x7f3b5c5d0f90>,\n",
       " 'block3_conv2': <keras.layers.convolutional.Conv2D at 0x7f3b5c5e8e10>,\n",
       " 'block3_conv3': <keras.layers.convolutional.Conv2D at 0x7f3b5c585750>,\n",
       " 'block3_pool': <keras.layers.pooling.MaxPooling2D at 0x7f3b5c4f5f90>,\n",
       " 'block4_conv1': <keras.layers.convolutional.Conv2D at 0x7f3b5c50c910>,\n",
       " 'block4_conv2': <keras.layers.convolutional.Conv2D at 0x7f3b5c51ff90>,\n",
       " 'block4_conv3': <keras.layers.convolutional.Conv2D at 0x7f3b5c531610>,\n",
       " 'block4_pool': <keras.layers.pooling.MaxPooling2D at 0x7f3b5c4e7fd0>,\n",
       " 'block5_conv1': <keras.layers.convolutional.Conv2D at 0x7f3b5c4d3c10>,\n",
       " 'block5_conv2': <keras.layers.convolutional.Conv2D at 0x7f3b5c48bc90>,\n",
       " 'block5_conv3': <keras.layers.convolutional.Conv2D at 0x7f3b5c49c2d0>,\n",
       " 'block5_pool': <keras.layers.pooling.MaxPooling2D at 0x7f3b5c43f7d0>,\n",
       " 'input_1': <keras.engine.topology.InputLayer at 0x7f3b5c7be550>}"
      ]
     },
     "execution_count": 18,
     "metadata": {},
     "output_type": "execute_result"
    }
   ],
   "source": [
    "layer_dict"
   ]
  },
  {
   "cell_type": "code",
   "execution_count": null,
   "metadata": {
    "collapsed": true
   },
   "outputs": [],
   "source": []
  }
 ],
 "metadata": {
  "kernelspec": {
   "display_name": "Python 2",
   "language": "python",
   "name": "python2"
  },
  "language_info": {
   "codemirror_mode": {
    "name": "ipython",
    "version": 2
   },
   "file_extension": ".py",
   "mimetype": "text/x-python",
   "name": "python",
   "nbconvert_exporter": "python",
   "pygments_lexer": "ipython2",
   "version": "2.7.13"
  }
 },
 "nbformat": 4,
 "nbformat_minor": 2
}
