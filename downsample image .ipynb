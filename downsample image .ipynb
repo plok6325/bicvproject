{
 "cells": [
  {
   "cell_type": "markdown",
   "metadata": {},
   "source": [
    "# Import image "
   ]
  },
  {
   "cell_type": "markdown",
   "metadata": {},
   "source": [
    "This script is to downsample the image. Using zoom from scipy ndimage  "
   ]
  },
  {
   "cell_type": "code",
   "execution_count": 16,
   "metadata": {
    "collapsed": false
   },
   "outputs": [],
   "source": [
    "from keras.datasets import cifar10,mnist\n",
    "from scipy.misc import imresize\n",
    "from scipy import ndimage as nd\n",
    "import numpy as np\n",
    "from tqdm import tqdm_notebook as tqdm"
   ]
  },
  {
   "cell_type": "code",
   "execution_count": 39,
   "metadata": {
    "collapsed": false
   },
   "outputs": [],
   "source": [
    "Original = mnist.load_data()\n",
    "train= Original[0][0]\n",
    "test= Original[1][0]"
   ]
  },
  {
   "cell_type": "code",
   "execution_count": 40,
   "metadata": {
    "collapsed": false,
    "scrolled": true
   },
   "outputs": [
    {
     "data": {
      "text/plain": [
       "(60000, 28, 28)"
      ]
     },
     "execution_count": 40,
     "metadata": {},
     "output_type": "execute_result"
    }
   ],
   "source": [
    "train.shape"
   ]
  },
  {
   "cell_type": "code",
   "execution_count": 41,
   "metadata": {
    "collapsed": false
   },
   "outputs": [
    {
     "name": "stdout",
     "output_type": "stream",
     "text": [
      "\n",
      "\n"
     ]
    }
   ],
   "source": [
    "train_by2 = []\n",
    "train_by4=[]\n",
    "test_by2=[]\n",
    "test_by4=[]\n",
    "for index in tqdm(range(len(train))):\n",
    "    train_by2.append(imresize(train[index],size=0.5,interp='bicubic'))\n",
    "    train_by4.append(imresize(train[index],size=0.25,interp='bicubic'))\n",
    "for index in tqdm(range(len(test))):\n",
    "    test_by2.append(imresize(test[index],size=0.5,interp='bicubic'))\n",
    "    test_by4.append(imresize(test[index],size=0.25,interp='bicubic'))\n",
    "    "
   ]
  },
  {
   "cell_type": "code",
   "execution_count": 42,
   "metadata": {
    "collapsed": true
   },
   "outputs": [],
   "source": [
    "train_by2=np.array(train_by2)\n",
    "train_by4=np.array(train_by4)\n",
    "test_by2=np.array(test_by2)\n",
    "test_by4=np.array(test_by4)\n"
   ]
  },
  {
   "cell_type": "code",
   "execution_count": 43,
   "metadata": {
    "collapsed": false
   },
   "outputs": [],
   "source": [
    "np.savez_compressed(train_by2=train_by2,train_by4=train_by4,test_by2=test_by2,test_by4=test_by4,file='LR_mnist')"
   ]
  },
  {
   "cell_type": "code",
   "execution_count": 44,
   "metadata": {
    "collapsed": false
   },
   "outputs": [
    {
     "data": {
      "text/plain": [
       "(10000, 7, 7)"
      ]
     },
     "execution_count": 44,
     "metadata": {},
     "output_type": "execute_result"
    }
   ],
   "source": [
    "test_by4.shape"
   ]
  },
  {
   "cell_type": "markdown",
   "metadata": {},
   "source": [
    "# Code not used"
   ]
  },
  {
   "cell_type": "markdown",
   "metadata": {
    "collapsed": false
   },
   "source": [
    "train_by2 = nd.interpolation.zoom(train, zoom=(1,0.5,0.5,1))\n",
    "train_by4 = nd.interpolation.zoom(train, zoom=(1,0.25,0.25,1))\n",
    "\n",
    "test_by2 = nd.interpolation.zoom(test, zoom=(1,0.5,0.5,1))\n",
    "test_by4 = nd.interpolation.zoom(test, zoom=(1,0.25,0.25,1))"
   ]
  },
  {
   "cell_type": "code",
   "execution_count": null,
   "metadata": {
    "collapsed": true
   },
   "outputs": [],
   "source": []
  }
 ],
 "metadata": {
  "kernelspec": {
   "display_name": "Python 2",
   "language": "python",
   "name": "python2"
  },
  "language_info": {
   "codemirror_mode": {
    "name": "ipython",
    "version": 2
   },
   "file_extension": ".py",
   "mimetype": "text/x-python",
   "name": "python",
   "nbconvert_exporter": "python",
   "pygments_lexer": "ipython2",
   "version": "2.7.13"
  }
 },
 "nbformat": 4,
 "nbformat_minor": 2
}
